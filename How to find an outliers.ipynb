{
 "cells": [
  {
   "cell_type": "markdown",
   "id": "a3449bae-0c76-4110-adce-6ed44540a7eb",
   "metadata": {},
   "source": [
    "# What is an outlier?"
   ]
  },
  {
   "cell_type": "markdown",
   "id": "480fc41f-d870-4d4f-be41-7105489443f3",
   "metadata": {},
   "source": [
    "An outlier is a data point in a data set that is distantfrom all other observations. A data point that lies outside the overall distribution of the dataset."
   ]
  },
  {
   "cell_type": "code",
   "execution_count": 1,
   "id": "96ea0783-a6e4-4ad2-8b8a-0a89388e57c8",
   "metadata": {},
   "outputs": [],
   "source": [
    "import numpy as np\n",
    "import matplotlib.pyplot as plt\n",
    "%matplotlib inline"
   ]
  },
  {
   "cell_type": "markdown",
   "id": "bc8d6cec-cbcb-4eb2-aaa5-f01ccddc680d",
   "metadata": {},
   "source": [
    "# What are the criteria to identify an outlier?"
   ]
  },
  {
   "cell_type": "markdown",
   "id": "6e1d3257-bbe6-4d45-9274-a770a1bda2a8",
   "metadata": {},
   "source": [
    "1.Data point that falls outside of 1.5 times of an interqurtile range over the 75%ile and below 25%ile.\n",
    "2.Data point that falls outside of 3 standard deviations.We can use a Z score and if the z score falls outside of 2 standard deviation."
   ]
  },
  {
   "cell_type": "markdown",
   "id": "cda412f0-c389-4ea5-b799-3d25ee3323f6",
   "metadata": {},
   "source": [
    "# What is the reason for an oulier to exists in a dataset?"
   ]
  },
  {
   "cell_type": "markdown",
   "id": "ab8daaaa-ebc0-4283-902e-04463b2a3b1f",
   "metadata": {},
   "source": [
    "1. variability in the data\n",
    "2.An experimental measurement error"
   ]
  },
  {
   "cell_type": "markdown",
   "id": "bcf47830-c2b0-43c4-b85c-5ae13645213c",
   "metadata": {},
   "source": [
    "# What are the impacts of having an outlier t exists in a dataset?"
   ]
  },
  {
   "cell_type": "markdown",
   "id": "91b36310-357f-4643-81ee-9a8d3cef900a",
   "metadata": {},
   "source": [
    "1. It causes various problems during our statistical anlysis.\n",
    "2. It may cause a significant impact on the mean and the standard deviation."
   ]
  },
  {
   "cell_type": "markdown",
   "id": "a0651e52-7d70-4fdb-9b6a-1ea454b884d6",
   "metadata": {},
   "source": [
    "# Various ways of findinf the outlier."
   ]
  },
  {
   "cell_type": "markdown",
   "id": "2fc92310-8f22-47be-8bd4-9a23a535d95b",
   "metadata": {},
   "source": [
    "1. Using scatter plots.\n",
    "2.Box plot.\n",
    "3. Using z score.\n",
    "4. Using the IQR."
   ]
  },
  {
   "cell_type": "code",
   "execution_count": 6,
   "id": "eaceec1a-f2e1-4057-8a3e-df34a7389950",
   "metadata": {},
   "outputs": [],
   "source": [
    "dataset = [1 ,2,3,4,5,3,2,4,3,4,222]"
   ]
  },
  {
   "cell_type": "markdown",
   "id": "60ccc21d-a586-4a64-8f39-aca89efc6699",
   "metadata": {},
   "source": [
    "# Detecting outlier using Z score"
   ]
  },
  {
   "cell_type": "markdown",
   "id": "08d2118c-9a8c-4766-b7f8-fc18912a5d59",
   "metadata": {},
   "source": [
    "### Using Z score"
   ]
  },
  {
   "cell_type": "markdown",
   "id": "ac267965-d716-4707-9385-d0b604e9d5c6",
   "metadata": {},
   "source": [
    "Formula for Z score = (X-u)/o"
   ]
  },
  {
   "cell_type": "code",
   "execution_count": 7,
   "id": "27a2f440-cdb4-422e-ba60-99f59a5eb7aa",
   "metadata": {},
   "outputs": [],
   "source": [
    "def detect_outliers(data):\n",
    "    outliers =[]\n",
    "    threshold=3\n",
    "    mean = np.mean(data)\n",
    "    std = np.std(data)\n",
    "\n",
    "    for i in data:\n",
    "        z_score = (i-mean)/std\n",
    "        if np.abs(z_score)>threshold:\n",
    "            outliers.append(i)\n",
    "        return outliers"
   ]
  },
  {
   "cell_type": "code",
   "execution_count": 8,
   "id": "9b4b2890-adac-4fe4-9afb-274cfbebccee",
   "metadata": {},
   "outputs": [],
   "source": [
    "outlier_pt = detect_outliers(dataset)"
   ]
  },
  {
   "cell_type": "code",
   "execution_count": 9,
   "id": "1e3d4c74-1f65-46b9-a62a-59cf635fad66",
   "metadata": {},
   "outputs": [
    {
     "data": {
      "text/plain": [
       "[]"
      ]
     },
     "execution_count": 9,
     "metadata": {},
     "output_type": "execute_result"
    }
   ],
   "source": [
    "outlier_pt"
   ]
  },
  {
   "cell_type": "code",
   "execution_count": null,
   "id": "e61c93ab-46df-4793-a12a-bf458d4ed165",
   "metadata": {},
   "outputs": [],
   "source": []
  }
 ],
 "metadata": {
  "kernelspec": {
   "display_name": "Python 3 (ipykernel)",
   "language": "python",
   "name": "python3"
  },
  "language_info": {
   "codemirror_mode": {
    "name": "ipython",
    "version": 3
   },
   "file_extension": ".py",
   "mimetype": "text/x-python",
   "name": "python",
   "nbconvert_exporter": "python",
   "pygments_lexer": "ipython3",
   "version": "3.12.3"
  }
 },
 "nbformat": 4,
 "nbformat_minor": 5
}
